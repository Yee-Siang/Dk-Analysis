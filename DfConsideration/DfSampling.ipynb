{
 "cells": [
  {
   "cell_type": "code",
   "execution_count": 1,
   "metadata": {},
   "outputs": [],
   "source": [
    "def findFeature(ls1):  #第一份檔案 : 左手圓極化; \n",
    "    import csv\n",
    "    \n",
    "    def intersectx(x1, y1, x2, y2, targety):\n",
    "        return x1 + (x2 - x1)/ (y2 - y1) * (targety -y1)\n",
    "    \n",
    "    out = [] #左手圓極化 max / 3dB / localMax / localMin / Side Lobe Gain\n",
    "\n",
    "    ls1 = ls1[0:268]\n",
    "    main = max(ls1)\n",
    "    out.append(main)\n",
    "    k = ls1.index(main)\n",
    "    m = k\n",
    "    while ls1[k] > (main -3) :\n",
    "        k -= 1\n",
    "    L = intersectx(k-180, ls1[k], k-179, ls1[k+1], main-3)\n",
    "       \n",
    "    while ls1[m] > (main -3) :\n",
    "        m += 1\n",
    "    H = intersectx(m-180, ls1[m], m-181, ls1[m-1], main-3)\n",
    "    out.append(H - L)\n",
    "        \n",
    "    localMax = []\n",
    "    ind1 = []\n",
    "    former = ls1[0]\n",
    "    for i in range(1, 267):\n",
    "        if ls1[i] > former and ls1[i] > ls1[i+1]:\n",
    "            localMax.append(ls1[i])\n",
    "            ind1.append(i)\n",
    "        former= ls1[i]\n",
    "    out.append(len(localMax))\n",
    "        \n",
    "    localMin = []\n",
    "    ind2 = []\n",
    "    former2 = ls1[0]\n",
    "    for i in range(1, 267):\n",
    "        if ls1[i] < former2 and ls1[i] < ls1[i+1]:\n",
    "            localMin.append(ls1[i])\n",
    "            ind2.append(i)\n",
    "        former2= ls1[i]\n",
    "    out.append(len(localMin))\n",
    "\n",
    "    out.append(localMax[localMax.index(max(localMax))-1])\n",
    "    '''    \n",
    "    center = ls2[len(ls2)//2]\n",
    "        \n",
    "    x = ls2.index(center)\n",
    "    y = x\n",
    "    while ls2[x] < center +3 :\n",
    "        x -= 1\n",
    "    l = intersectx(x-180, ls2[x], x-179, ls2[x+1], center+3)\n",
    "       \n",
    "    while ls2[y] < center +3 :\n",
    "        y += 1\n",
    "    h = intersectx(y-180, ls2[y], y-181, ls2[y-1], center+3)\n",
    "    out.append(h - l)\n",
    "    '''    \n",
    "    return out"
   ]
  },
  {
   "cell_type": "code",
   "execution_count": 2,
   "metadata": {},
   "outputs": [],
   "source": [
    "import csv\n",
    "import matplotlib.pyplot as plt\n",
    "from scipy import interpolate\n",
    "import scipy.stats as stats\n",
    "import numpy as np"
   ]
  },
  {
   "cell_type": "code",
   "execution_count": 3,
   "metadata": {},
   "outputs": [],
   "source": [
    "with open('LHCP 0818.csv', \"r\") as file:\n",
    "    raw = list(csv.reader(file))\n",
    "    Df = []\n",
    "    Val = []\n",
    "    for i in range(1,len(raw[0])):\n",
    "        ls = []\n",
    "        df = float(raw[0][i].split(\"$Df='\")[1].split(\"'\")[0])\n",
    "        if raw[0][i].split(\"Phi='\")[1].split(\"'\")[0] == '0deg':\n",
    "            dk = float(raw[0][i].split(\"$Dk='\")[1].split(\"'\")[0])\n",
    "            Df.append([df,dk])\n",
    "            for j in range(1, len(raw)):\n",
    "                ls.append(float(raw[j][i]))\n",
    "            Val.append(ls)"
   ]
  },
  {
   "cell_type": "code",
   "execution_count": 29,
   "metadata": {},
   "outputs": [
    {
     "data": {
      "text/plain": [
       "'\\nDf = 0 時的 (Main Lobe Gain, Main Lobe 3dB Width)\\nDk = 1.50 : (8.28257609233709, 27.04187464155035)\\nDk = 2.50 : (7.22278742905561, 26.158804260128846)\\nDk = 3.50 : (5.9056919003971, 25.421481201314496)\\nDk = 4.50 : (4.67875657023212, 25.145922536625896)\\nDk = 5.50 : (4.48020887903446, 24.117012180722373)\\n'"
      ]
     },
     "execution_count": 29,
     "metadata": {},
     "output_type": "execute_result"
    }
   ],
   "source": [
    "'''\n",
    "Df = 0 時的 (Main Lobe Gain, Main Lobe 3dB Width)\n",
    "Dk = 1.50 : (8.28257609233709, 27.04187464155035)\n",
    "Dk = 2.50 : (7.22278742905561, 26.158804260128846)\n",
    "Dk = 3.50 : (5.9056919003971, 25.421481201314496)\n",
    "Dk = 4.50 : (4.67875657023212, 25.145922536625896)\n",
    "Dk = 5.50 : (4.48020887903446, 24.117012180722373)\n",
    "\n",
    "Df = 0時的 Left Side Lobe Gain\n",
    "Dk = 1.50 : 0.778887448896868\n",
    "Dk = 2.50 : 0.377817490462811\n",
    "Dk = 3.50 : 0.0723303287149358\n",
    "Dk = 4.50 : -1.6743007059779\n",
    "Dk = 5.50 : -2.49344430252503\n",
    "'''"
   ]
  },
  {
   "cell_type": "code",
   "execution_count": 4,
   "metadata": {},
   "outputs": [],
   "source": [
    "out1 = [] # Main Lobe Gain 和 Df = 0的差距\n",
    "out2 = [] # Main Lobe 3dB Width 和 Df = 0 的差距\n",
    "out3 = []\n",
    "dfset = []\n",
    "for m in range(25):\n",
    "    dfset.append(0.002*(m+1))\n",
    "    diff_gain = []\n",
    "    diff_width = []\n",
    "    diff_side = []\n",
    "    for n in range(5):\n",
    "        x = findFeature(Val[5*m + n])\n",
    "        if n == 0:    #Dk = 1.50\n",
    "            diff_gain.append(x[0] - 8.28257609233709)\n",
    "            diff_width.append(x[1] - 27.04187464155035)\n",
    "            diff_side.append(x[4] - 0.778887448896868)\n",
    "        elif n == 1:   #Dk = 2.50\n",
    "            diff_gain.append(x[0] - 7.22278742905561)\n",
    "            diff_width.append(x[1] - 26.158804260128846)\n",
    "            diff_side.append(x[4] - 0.377817490462811)\n",
    "        elif n == 2:   #Dk = 3.50\n",
    "            diff_gain.append(x[0] - 5.9056919003971)\n",
    "            diff_width.append(x[1] - 25.421481201314496)\n",
    "            diff_side.append(x[4] - 0.0723303287149358)\n",
    "        elif n == 3:   #Dk = 4.50\n",
    "            diff_gain.append(x[0] - 4.67875657023212)\n",
    "            diff_width.append(x[1] - 25.145922536625896)\n",
    "            diff_side.append(x[4] - (-1.6743007059779))\n",
    "        else:          #Dk = 5.50\n",
    "            diff_gain.append(x[0] - 4.48020887903446)\n",
    "            diff_width.append(x[1] - 24.117012180722373)\n",
    "            diff_side.append(x[4] - (-2.49344430252503))\n",
    "    out1.append(sum(diff_gain)/5)\n",
    "    out2.append(sum(diff_width)/5)\n",
    "    out3.append(sum(diff_side)/5)"
   ]
  },
  {
   "cell_type": "code",
   "execution_count": 5,
   "metadata": {},
   "outputs": [
    {
     "data": {
      "image/png": "[encoded data removed]",
      "text/plain": [
       "<Figure size 432x288 with 1 Axes>"
      ]
     },
     "metadata": {
      "needs_background": "light"
     },
     "output_type": "display_data"
    },
    {
     "name": "stdout",
     "output_type": "stream",
     "text": [
      "Correlation Coefficient of Df and Main Lobe Gain Difference = -0.9617717890864638\n",
      "Prediction Equation : y1 = -3.9642200106153873 x + 0.025257270056724186\n",
      "\n"
     ]
    }
   ],
   "source": [
    "plt.scatter(dfset, out1)\n",
    "plt.xlabel('Df')\n",
    "plt.ylabel('Gain Difference (dB)')\n",
    "plt.title('Difference of Main Lobe Gain vs Df = 0')\n",
    "plt.show()\n",
    "print('Correlation Coefficient of Df and Main Lobe Gain Difference =',stats.pearsonr(dfset, out1)[0])\n",
    "args1 = np.polyfit(dfset, out1, 1)\n",
    "print(\"Prediction Equation : y1 =\", args1[0],\"x +\", args1[1])\n",
    "print('')"
   ]
  },
  {
   "cell_type": "code",
   "execution_count": 6,
   "metadata": {},
   "outputs": [
    {
     "data": {
      "image/png": "[encoded data removed]",
      "text/plain": [
       "<Figure size 432x288 with 1 Axes>"
      ]
     },
     "metadata": {
      "needs_background": "light"
     },
     "output_type": "display_data"
    },
    {
     "name": "stdout",
     "output_type": "stream",
     "text": [
      "Correlation Coefficient of Df and Side Lobe Gain Difference = -0.9481521916466378\n",
      "Prediction Equation : y3 = -4.0412532766923075 x + 0.044493366807663075\n",
      "\n"
     ]
    }
   ],
   "source": [
    "plt.scatter(dfset, out3)\n",
    "plt.xlabel('Df')\n",
    "plt.ylabel('Gain Difference (dB)')\n",
    "plt.title('Difference of Side Lobe Gain vs Df = 0')\n",
    "plt.show()\n",
    "print('Correlation Coefficient of Df and Side Lobe Gain Difference =',stats.pearsonr(dfset, out3)[0])\n",
    "args1 = np.polyfit(dfset, out3, 1)\n",
    "print(\"Prediction Equation : y3 =\", args1[0],\"x +\", args1[1])\n",
    "print('')"
   ]
  },
  {
   "cell_type": "code",
   "execution_count": 7,
   "metadata": {},
   "outputs": [
    {
     "data": {
      "image/png": "[encoded data removed]",
      "text/plain": [
       "<Figure size 432x288 with 1 Axes>"
      ]
     },
     "metadata": {
      "needs_background": "light"
     },
     "output_type": "display_data"
    }
   ],
   "source": [
    "plt.plot(dfset, out2)\n",
    "plt.xlabel('Df')\n",
    "plt.ylabel('3dB Width Difference (deg)')\n",
    "plt.title('Difference of Main Lobe 3dB Width vs Df = 0')\n",
    "plt.ylim(-0.15, 0.08)\n",
    "plt.grid(True)\n",
    "plt.show()"
   ]
  },
  {
   "cell_type": "code",
   "execution_count": null,
   "metadata": {},
   "outputs": [],
   "source": []
  }
 ],
 "metadata": {
  "kernelspec": {
   "display_name": "Python 3",
   "language": "python",
   "name": "python3"
  },
  "language_info": {
   "codemirror_mode": {
    "name": "ipython",
    "version": 3
   },
   "file_extension": ".py",
   "mimetype": "text/x-python",
   "name": "python",
   "nbconvert_exporter": "python",
   "pygments_lexer": "ipython3",
   "version": "3.8.5"
  }
 },
 "nbformat": 4,
 "nbformat_minor": 4
}
