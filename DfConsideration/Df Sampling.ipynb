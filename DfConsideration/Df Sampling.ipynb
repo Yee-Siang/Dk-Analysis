{
 "cells": [
  {
   "cell_type": "code",
   "execution_count": 1,
   "metadata": {},
   "outputs": [],
   "source": [
    "def findFeature(ls1, ls2):  #第一份檔案 : 左手圓極化; 第二份檔案 : 軸比\n",
    "    import csv\n",
    "    \n",
    "    def intersectx(x1, y1, x2, y2, targety):\n",
    "        return x1 + (x2 - x1)/ (y2 - y1) * (targety -y1)\n",
    "    \n",
    "    out = [] #左手圓極化 max / 3dB / localMax / localMin / Side Lobe Gain #軸比 3dB\n",
    "\n",
    "    ls1 = ls1[0:268]\n",
    "    main = max(ls1)\n",
    "    out.append(main)\n",
    "    k = ls1.index(main)\n",
    "    m = k\n",
    "    while ls1[k] > (main -3) :\n",
    "        k -= 1\n",
    "    L = intersectx(k-180, ls1[k], k-179, ls1[k+1], main-3)\n",
    "       \n",
    "    while ls1[m] > (main -3) :\n",
    "        m += 1\n",
    "    H = intersectx(m-180, ls1[m], m-181, ls1[m-1], main-3)\n",
    "    out.append(H - L)\n",
    "        \n",
    "    localMax = []\n",
    "    ind1 = []\n",
    "    former = ls1[0]\n",
    "    for i in range(1, 267):\n",
    "        if ls1[i] > former and ls1[i] > ls1[i+1]:\n",
    "            localMax.append(ls1[i])\n",
    "            ind1.append(i)\n",
    "        former= ls1[i]\n",
    "    out.append(len(localMax))\n",
    "        \n",
    "    localMin = []\n",
    "    ind2 = []\n",
    "    former2 = ls1[0]\n",
    "    for i in range(1, 267):\n",
    "        if ls1[i] < former2 and ls1[i] < ls1[i+1]:\n",
    "            localMin.append(ls1[i])\n",
    "            ind2.append(i)\n",
    "        former2= ls1[i]\n",
    "    out.append(len(localMin))\n",
    "\n",
    "    out.append(localMax[localMax.index(max(localMax))-1])\n",
    "        \n",
    "    center = ls2[len(ls2)//2]\n",
    "        \n",
    "    x = ls2.index(center)\n",
    "    y = x\n",
    "    while ls2[x] < center +3 :\n",
    "        x -= 1\n",
    "    l = intersectx(x-180, ls2[x], x-179, ls2[x+1], center+3)\n",
    "       \n",
    "    while ls2[y] < center +3 :\n",
    "        y += 1\n",
    "    h = intersectx(y-180, ls2[y], y-181, ls2[y-1], center+3)\n",
    "    out.append(h - l)\n",
    "        \n",
    "    return out"
   ]
  },
  {
   "cell_type": "code",
   "execution_count": null,
   "metadata": {},
   "outputs": [],
   "source": []
  }
 ],
 "metadata": {
  "kernelspec": {
   "display_name": "Python 3",
   "language": "python",
   "name": "python3"
  },
  "language_info": {
   "codemirror_mode": {
    "name": "ipython",
    "version": 3
   },
   "file_extension": ".py",
   "mimetype": "text/x-python",
   "name": "python",
   "nbconvert_exporter": "python",
   "pygments_lexer": "ipython3",
   "version": "3.8.5"
  }
 },
 "nbformat": 4,
 "nbformat_minor": 4
}
