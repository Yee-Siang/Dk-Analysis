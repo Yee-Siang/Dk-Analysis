{
 "cells": [
  {
   "cell_type": "code",
   "execution_count": 2,
   "metadata": {},
   "outputs": [],
   "source": [
    "from determine import *\n",
    "from equations import *\n",
    "\n",
    "def main(file1, file2):\n",
    "    info = findFeature(file1, file2)\n",
    "    \n",
    "    mainGain = info[0]\n",
    "    mainWidth = info[1]\n",
    "    maxNum = info[2]\n",
    "    minNum = info[3]\n",
    "    sideGain = info[4]\n",
    "    arWidth = info[5]\n",
    "    \n",
    "    if maxNum == 4:\n",
    "        return sol1(mainWidth)\n",
    "    \n",
    "    else:\n",
    "        if minNum == 3:\n",
    "            return sol1(mainWidth)\n",
    "        \n",
    "        elif minNum == 6:\n",
    "            return sol2(mainWidth)\n",
    "        \n",
    "        else:\n",
    "            if sideGain >= 0:\n",
    "                if mainWidth > 25.7:\n",
    "                    return sol1(mainWidth)\n",
    "                \n",
    "                else:\n",
    "                    return sol4(arWidth)\n",
    "                \n",
    "            else:\n",
    "                if mainWidth <= 24.8:\n",
    "                    return sol2(mainWidth)\n",
    "                \n",
    "                else:\n",
    "                    return sol3(sideGain)"
   ]
  },
  {
   "cell_type": "code",
   "execution_count": 15,
   "metadata": {},
   "outputs": [
    {
     "name": "stdout",
     "output_type": "stream",
     "text": [
      "Regression using sol2.\n"
     ]
    },
    {
     "data": {
      "text/plain": [
       "5.872175388871907"
      ]
     },
     "execution_count": 15,
     "metadata": {},
     "output_type": "execute_result"
    }
   ],
   "source": [
    "main('左手圓極化測試.csv', '軸比測試.csv')"
   ]
  },
  {
   "cell_type": "code",
   "execution_count": null,
   "metadata": {},
   "outputs": [],
   "source": []
  }
 ],
 "metadata": {
  "kernelspec": {
   "display_name": "Python 3",
   "language": "python",
   "name": "python3"
  },
  "language_info": {
   "codemirror_mode": {
    "name": "ipython",
    "version": 3
   },
   "file_extension": ".py",
   "mimetype": "text/x-python",
   "name": "python",
   "nbconvert_exporter": "python",
   "pygments_lexer": "ipython3",
   "version": "3.8.5"
  }
 },
 "nbformat": 4,
 "nbformat_minor": 4
}
